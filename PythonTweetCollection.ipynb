{
 "cells": [
  {
   "cell_type": "code",
   "execution_count": 150,
   "metadata": {},
   "outputs": [
    {
     "name": "stdout",
     "output_type": "stream",
     "text": [
      "6326\n",
      "3674\n"
     ]
    }
   ],
   "source": [
    "import tweepy\n",
    "import csv #Import csv\n",
    "api_key='mgQSyKZ2dUb1NgPfyBEaUmtkz'\n",
    "api_secret='BMVLb3LVAX0mBMO7DhEi4FGWjEFAoHtqQqkkEedjKdoPVrDNqo'\n",
    "consumer_key='1272280903-0Ffj1Uk5kJQvCaZWJ8GaVe6iGTc4EgEkibdMggw'\n",
    "consumer_secret='V80ZtDhdc3xEJHoFAdm77JgeBwjexdhQvJrgxVnXfGSJ3'\n",
    "auth = tweepy.auth.OAuthHandler(api_key,api_secret)\n",
    "auth.set_access_token(consumer_key,consumer_secret)\n",
    "\n",
    "api = tweepy.API(auth, wait_on_rate_limit=True)\n",
    "\n",
    "# Open/create a file to append data to\n",
    "csvFile = open('Tweet-TV3.csv', 'a')\n",
    "\n",
    "#Use csv writer\n",
    "csvWriter = csv.writer(csvFile)\n",
    "#,geocodes = \"39.5, -98.6, 1400km\"\n",
    "count=0\n",
    "re_count=0\n",
    "for tweet in tweepy.Cursor(api.search,q =tv,lang = \"en\").items(10000):\n",
    "    # Write a row to the CSV file. I use encode UTF-8\n",
    "    if(not tweet.retweeted)and('RT @' not in tweet.text):\n",
    "        count=count+1\n",
    "        csvWriter.writerow([tweet.created_at, tweet.text, tweet.user.location, tweet.coordinates])\n",
    "        #print(count)\n",
    "    else:\n",
    "        re_count=re_count+1\n",
    "    #print (tweet.created_at, tweet.text)\n",
    "csvFile.close()\n",
    "\n",
    "print(count)\n",
    "print(re_count)"
   ]
  },
  {
   "cell_type": "code",
   "execution_count": 149,
   "metadata": {},
   "outputs": [],
   "source": [
    "#\"#USTax OR #TaxDay OR #taxday OR #TaxDay2019 OR #tacday2019 OR #GOPTaxScam OR #goptaxscam OR #TaxScam OR #USeconomy OR #GOP OR #taxreforms\"\n",
    "#728\n",
    "#9272\n",
    "\n",
    "880\n",
    "9120\n",
    "#\"#BuildTheWall OR #buildthewall OR #BuildTheWallNow OR #CloseThe OR #SecureTheBorder OR #securetheborder OR #FinishTheWall OR #finishthewall OR #keepamericasafe  OR #KeepAmericaSafe\"\n",
    "#49\n",
    "#137\n",
    "movie=\"#Movies OR #Movies OR #movies OR #MOVIES OR #film OR #Film OR #cinema\"\n",
    "trump=\"#Trump OR #TrumpAdministration OR #DonaldTrump OR #President OR #POTUS OR #MAGA OR #MakeAmericaGreatAgain OR #KeepAmericaGreat2020 OR #KAG OR #Trump2020 OR #Trump2020Landslide OR #AmericaFirst\"\n",
    "book=\"#book OR #Book OR #books OR #BOOKS OR #reading OR #bibliophile OR #booklovers OR #bookworm OR #bookstoread\"\n",
    "tv=\"#tv OR #tvshow OR #TVShow OR #TV OR #sitcom OR #tvseries OR #TVSeries\""
   ]
  },
  {
   "cell_type": "code",
   "execution_count": null,
   "metadata": {},
   "outputs": [],
   "source": []
  },
  {
   "cell_type": "code",
   "execution_count": 151,
   "metadata": {},
   "outputs": [],
   "source": [
    "import pandas as pd\n",
    "\n",
    "f1=pd.read_csv('Tweet-TV3.csv').iloc[:,1]\n"
   ]
  },
  {
   "cell_type": "code",
   "execution_count": 152,
   "metadata": {},
   "outputs": [],
   "source": [
    "#f2=pd.read_csv('Tweet-TV1.csv').iloc[:,1]"
   ]
  },
  {
   "cell_type": "code",
   "execution_count": 153,
   "metadata": {},
   "outputs": [],
   "source": [
    "#f3=pd.read_csv('Tweet-TV2.csv').iloc[:,1]"
   ]
  },
  {
   "cell_type": "code",
   "execution_count": 154,
   "metadata": {},
   "outputs": [],
   "source": [
    "#f2.columns = [\"Tweets\"]\n",
    "#f3.columns = [\"Tweets\"]\n",
    "f1.columns = [\"Tweets\"]"
   ]
  },
  {
   "cell_type": "code",
   "execution_count": 155,
   "metadata": {},
   "outputs": [],
   "source": [
    "#fcombine=pd.concat([f2,f1,f3])\n",
    "funique=f1.drop_duplicates()\n",
    "funique.to_csv('./Twitter/Tweets-TV.csv')"
   ]
  },
  {
   "cell_type": "code",
   "execution_count": 156,
   "metadata": {},
   "outputs": [
    {
     "data": {
      "text/plain": [
       "0       RT thebestofirl \"Mistakes on #GoT https://t.co...\n",
       "1       These documentaries on #Netflix are kicking as...\n",
       "2       RT thebestofirl \"Mistakes on #GoT https://t.co...\n",
       "3       RT Getreallux \"Mistakes on #GoT https://t.co/1...\n",
       "4       RT thebestofirl \"Mistakes on #GoT https://t.co...\n",
       "5       RT thebestofirl \"Mistakes on #GoT https://t.co...\n",
       "6       RT thebestofirl \"Mistakes on #GoT https://t.co...\n",
       "7       Mistakes on #GoT https://t.co/6ofjRewbyF #Game...\n",
       "8       RT thebestofirl \"Mistakes on #GoT https://t.co...\n",
       "9       Mistakes on #GoT https://t.co/0xG2Ww19QB #Game...\n",
       "10      @PlutoTV Pluto is a far left company. They are...\n",
       "11      Mr.Sunshine is back on the streets of #NYC Can...\n",
       "12      #FF #TV #Food @brimcgi &amp; producer David Ge...\n",
       "13      Totally going to rewatch the new season of sab...\n",
       "14      Horror movies without the jump scares? https:/...\n",
       "15      New Image from Terrence Malick's 'A Hidden Lif...\n",
       "16      Get Comer! 💃\\n@ComerJodie #jodiecomer @ELLEmag...\n",
       "17      Moto X 4th Generation Amazon Alexa hands-free ...\n",
       "18      Notice of #Filming a #TV #Commercial for #Hyun...\n",
       "19      Samsung Galaxy S7 G930A 32GB Black Onyx https:...\n",
       "20      What2Watch #TV @TennisChannel/#TCPlus- #FedCup...\n",
       "21      ⬛️  Cable Crusher - Now Only $19.99 Month    ▶...\n",
       "22      What2Watch #TV @TennisChannel/#TCPlus- #FedCup...\n",
       "23      #snacks 👌🏼 #wine 👌🏼 #coffee 👌🏼 #couch 👌🏼 #dogs...\n",
       "24      Looking for a great #podcast on #Writing for #...\n",
       "25      #scifi news from SyfyWire: https://t.co/pocSnp...\n",
       "26      Remember the TV show \"In the Heat of the Night...\n",
       "27      Bob Saget’s Benjamin Trailer: First Look at Re...\n",
       "28      So will the @marvel tv shows have #crossovers ...\n",
       "29      5 good shows to watch over the long weekend.\\n...\n",
       "                              ...                        \n",
       "6294    \"I'm not that old. Not as old as him.\"\\n\\nGame...\n",
       "6295    #had a #great #time #filming for @propertytv23...\n",
       "6296    📺 Don't miss this chance to meet the Lebanese ...\n",
       "6297    #Giveaway - Ends 4/30 - #Win FREE New @Element...\n",
       "6299    #Eros Now Becomes the First Indian Content Par...\n",
       "6300    Watch the latest series of The Durrells wherev...\n",
       "6301    An unfortunate incident took place on the sets...\n",
       "6302    Now From #ShareAShow  365Flicks Podcast @365Fl...\n",
       "6303    \"I used to think you were the cleverest man al...\n",
       "6304    “What do dragons eat?\"\\n\\n\"Whatever they want....\n",
       "6305    For @financialtimes to head a series of articl...\n",
       "6306    For @financialtimes to head a series of articl...\n",
       "6307    Today is the 21st anniversary of the Star Trek...\n",
       "6308    It's GOT time! Starting my day with an appropr...\n",
       "6309    #scifi news from SyfyWire: https://t.co/TbaKY3...\n",
       "6310    Recent Closure of a 2-Story Gym In Greater Man...\n",
       "6311    #IgnoreMe t-shirt by Clueless Tees. https://t....\n",
       "6312    1971 #Fiat500 #Giannini #TV  @classiccarauc @C...\n",
       "6313    Home cooks wanted!\\nWant to learn new skills a...\n",
       "6314    I know #SYFY recently canceled #ZNation with #...\n",
       "6315    Oops!\\n#got #jonsnow #khaleesi #daenerystargar...\n",
       "6316    News: BBC One’s Scarborough marks first day of...\n",
       "6317    FOOLISH GLORY STUDIO\\nSHOW REEL 2019\\n\\n#dizzy...\n",
       "6318    Well done to Zeth.F invited to self tape for a...\n",
       "6319    20 Hilarious “Game Of Thrones” Reactions From ...\n",
       "6320    NEO TV PRO - IPTV. Covering 20+ Countries, Up ...\n",
       "6321    Looking for actors, extras, models, singers, e...\n",
       "6322    European On-Demand Platform Chili Expands Oper...\n",
       "6323    🍿📺🍿 NEW VIDEO 🍿📺🍿\\n\\nGame Of Thrones: Season 8...\n",
       "6324    UNTV #Philippines LIVE #TV #Entertainment http...\n",
       "Name: RT thebestofirl \"Mistakes on #GoT https://t.co/5f7fZj2vGU #GameofThrones #HBO #NI #Ireland #IRL #TV\", Length: 6290, dtype: object"
      ]
     },
     "execution_count": 156,
     "metadata": {},
     "output_type": "execute_result"
    }
   ],
   "source": [
    "funique"
   ]
  },
  {
   "cell_type": "code",
   "execution_count": 73,
   "metadata": {},
   "outputs": [
    {
     "data": {
      "text/plain": [
       "(4800, 11351, 16151)"
      ]
     },
     "execution_count": 73,
     "metadata": {},
     "output_type": "execute_result"
    }
   ],
   "source": [
    "len(f2), len(f3), len(fcombine)"
   ]
  },
  {
   "cell_type": "code",
   "execution_count": 82,
   "metadata": {},
   "outputs": [],
   "source": []
  },
  {
   "cell_type": "code",
   "execution_count": null,
   "metadata": {},
   "outputs": [],
   "source": []
  }
 ],
 "metadata": {
  "kernelspec": {
   "display_name": "Python 3",
   "language": "python",
   "name": "python3"
  },
  "language_info": {
   "codemirror_mode": {
    "name": "ipython",
    "version": 3
   },
   "file_extension": ".py",
   "mimetype": "text/x-python",
   "name": "python",
   "nbconvert_exporter": "python",
   "pygments_lexer": "ipython3",
   "version": "3.7.1"
  }
 },
 "nbformat": 4,
 "nbformat_minor": 2
}
